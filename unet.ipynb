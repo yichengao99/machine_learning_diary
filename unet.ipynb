{
 "cells": [
  {
   "cell_type": "code",
   "execution_count": null,
   "metadata": {},
   "outputs": [],
   "source": [
    "import tensorflow as tf\n",
    "import tensorflow_datasets as tfds\n",
    "import matplotlib.pyplot as plt\n",
    "dataset, info = tfds.load('oxford_iiit_pet:3.*.*', with_info=True)"
   ]
  },
  {
   "cell_type": "code",
   "execution_count": null,
   "metadata": {},
   "outputs": [],
   "source": [
    "def normalize(input_image, input_mask):\n",
    "  input_image = tf.cast(input_image, tf.float32) / 255.0\n",
    "  input_mask -= 1\n",
    "  return input_image, input_mask\n",
    "\n",
    "def load_image(datapoint):\n",
    "  input_image = tf.image.resize(datapoint['image'], (572, 572))\n",
    "  input_mask = tf.image.resize(\n",
    "    datapoint['segmentation_mask'],\n",
    "    (388, 388),\n",
    "    method = tf.image.ResizeMethod.NEAREST_NEIGHBOR,\n",
    "  )\n",
    "\n",
    "  input_image, input_mask = normalize(input_image, input_mask)\n",
    "\n",
    "  return input_image, input_mask"
   ]
  },
  {
   "cell_type": "code",
   "execution_count": null,
   "metadata": {},
   "outputs": [],
   "source": [
    "def display(display_list):\n",
    "  plt.figure(figsize=(15, 15))\n",
    "\n",
    "  title = ['Input Image', 'True Mask', 'Predicted Mask']\n",
    "\n",
    "  for i in range(len(display_list)):\n",
    "    plt.subplot(1, len(display_list), i+1)\n",
    "    plt.title(title[i])\n",
    "    plt.imshow(tf.keras.utils.array_to_img(display_list[i]))\n",
    "    plt.axis('off')\n",
    "  plt.show()"
   ]
  },
  {
   "cell_type": "code",
   "execution_count": null,
   "metadata": {},
   "outputs": [],
   "source": [
    "TRAIN_LENGTH = info.splits['train'].num_examples\n",
    "BATCH_SIZE = 8\n",
    "BUFFER_SIZE = 1000\n",
    "STEPS_PER_EPOCH = TRAIN_LENGTH // BATCH_SIZE\n",
    "\n",
    "train_batches = (\n",
    "    train_images\n",
    "    .cache()\n",
    "    .shuffle(BUFFER_SIZE)\n",
    "    .batch(BATCH_SIZE)\n",
    "    .repeat()\n",
    "    .prefetch(buffer_size=tf.data.AUTOTUNE))\n",
    "\n",
    "test_batches = test_images.batch(BATCH_SIZE)"
   ]
  },
  {
   "cell_type": "code",
   "execution_count": null,
   "metadata": {},
   "outputs": [],
   "source": [
    "for images, masks in train_batches.take(2):\n",
    "  sample_image, sample_mask = images[0], masks[0]\n",
    "  display([sample_image, sample_mask])"
   ]
  },
  {
   "cell_type": "code",
   "execution_count": null,
   "metadata": {},
   "outputs": [],
   "source": [
    "from numpy import concatenate\n",
    "from tensorflow.keras.layers import Conv2D, Conv2DTranspose, MaxPooling2D\n",
    "\n",
    "inputs = tf.keras.Input(shape=[572,572,3])\n",
    "\n",
    "x = Conv2D(64,3,activation='relu',padding='valid')(inputs)\n",
    "x1 = Conv2D(64,3,activation='relu',padding='valid')(x)\n",
    "x = MaxPooling2D()(x1)\n",
    "\n",
    "x = Conv2D(128,3,activation='relu',padding='valid')(x)\n",
    "x2 = Conv2D(128,3,activation='relu',padding='valid')(x)\n",
    "x = MaxPooling2D()(x2)\n",
    "\n",
    "x = Conv2D(256,3,activation='relu',padding='valid')(x)\n",
    "x3 = Conv2D(256,3,activation='relu',padding='valid')(x)\n",
    "x = MaxPooling2D()(x3)\n",
    "\n",
    "x = Conv2D(512,3,activation='relu',padding='valid')(x)\n",
    "x4 = Conv2D(512,3,activation='relu',padding='valid')(x)\n",
    "x = MaxPooling2D()(x4)\n",
    "\n",
    "x = Conv2D(1024,3,activation='relu',padding='valid')(x)\n",
    "x = Conv2D(1024,3,activation='relu',padding='valid')(x)\n",
    "x = Conv2DTranspose(512,3,strides=(2,2),padding='same')(x)\n",
    "\n",
    "x4 = tf.image.resize_with_pad(x4,56,56)\n",
    "x4up = tf.concat([x4,x],3)\n",
    "x = Conv2D(512,3,activation='relu',padding='valid')(x4up)\n",
    "x = Conv2D(512,3,activation='relu',padding='valid')(x)\n",
    "x = Conv2DTranspose(256,3,strides=(2,2),padding='same')(x)\n",
    "\n",
    "x3 = tf.image.resize_with_pad(x3,104,104)\n",
    "x3up = tf.concat([x3,x],3)\n",
    "x = Conv2D(256,3,activation='relu',padding='valid')(x3up)\n",
    "x = Conv2D(256,3,activation='relu',padding='valid')(x)\n",
    "x = Conv2DTranspose(128,3,strides=(2,2),padding='same')(x)\n",
    "\n",
    "x2 = tf.image.resize_with_pad(x2,200,200)\n",
    "x2up = tf.concat([x2,x],3)\n",
    "x = Conv2D(128,3,activation='relu',padding='valid')(x2up)\n",
    "x = Conv2D(128,3,activation='relu',padding='valid')(x)\n",
    "x = Conv2DTranspose(64,3,strides=(2,2),padding='same')(x)\n",
    "\n",
    "x1 = tf.image.resize_with_pad(x1,392,392)\n",
    "x1up = tf.concat([x1,x],3)\n",
    "x = Conv2D(64,3,activation='relu',padding='valid')(x1up)\n",
    "x = Conv2D(64,3,activation='relu',padding='valid')(x)\n",
    "\n",
    "outputs = Conv2D(3, (1,1), padding='same',activation='softmax')(x)\n",
    "\n",
    "model = tf.keras.Model(inputs, outputs)"
   ]
  },
  {
   "cell_type": "code",
   "execution_count": null,
   "metadata": {},
   "outputs": [],
   "source": [
    "model.compile(optimizer='adam',\n",
    "              loss=tf.keras.losses.SparseCategoricalCrossentropy(from_logits=True),\n",
    "              metrics=['accuracy'])"
   ]
  },
  {
   "cell_type": "code",
   "execution_count": null,
   "metadata": {},
   "outputs": [],
   "source": [
    "from IPython.display import clear_output\n",
    "def create_mask(pred_mask):\n",
    "  pred_mask = tf.math.argmax(pred_mask, axis=-1)\n",
    "  pred_mask = pred_mask[..., tf.newaxis]\n",
    "  return pred_mask[0]\n",
    "\n",
    "def show_predictions(dataset=None, num=1):\n",
    "  if dataset:\n",
    "    for image, mask in dataset.take(num):\n",
    "      pred_mask = model.predict(image)\n",
    "      display([image[0], mask[0], create_mask(pred_mask)])\n",
    "  else:\n",
    "    display([sample_image, sample_mask,\n",
    "             create_mask(model.predict(sample_image[tf.newaxis, ...]))])\n",
    "    \n",
    "class DisplayCallback(tf.keras.callbacks.Callback):\n",
    "  def on_epoch_end(self, epoch, logs=None):\n",
    "    clear_output(wait=True)\n",
    "    show_predictions()\n",
    "    print ('\\nSample Prediction after epoch {}\\n'.format(epoch+1))"
   ]
  },
  {
   "cell_type": "code",
   "execution_count": null,
   "metadata": {},
   "outputs": [],
   "source": [
    "VALIDATION_STEPS = info.splits['test'].num_examples//BATCH_SIZE\n",
    "history = model.fit(train_batches,\n",
    "                    steps_per_epoch = STEPS_PER_EPOCH,\n",
    "                    epochs=100,\n",
    "                    validation_data=test_batches,\n",
    "                    validation_steps=VALIDATION_STEPS,\n",
    "                    callbacks=[DisplayCallback()])"
   ]
  },
  {
   "cell_type": "code",
   "execution_count": null,
   "metadata": {},
   "outputs": [],
   "source": []
  }
 ],
 "metadata": {
  "language_info": {
   "name": "python"
  }
 },
 "nbformat": 4,
 "nbformat_minor": 2
}
