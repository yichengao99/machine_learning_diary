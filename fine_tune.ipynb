{
 "cells": [
  {
   "cell_type": "code",
   "execution_count": null,
   "metadata": {},
   "outputs": [],
   "source": [
    "!wget https://storage.googleapis.com/ztm_tf_course/food_vision/10_food_classes_10_percent.zip\n",
    "unzip_data(\"10_food_classes_10_percent.zip\")\n",
    "\n",
    "train_dir_10_percent = \"10_food_classes_10_percent/train/\"\n",
    "test_dir = \"10_food_classes_10_percent/test/\""
   ]
  },
  {
   "cell_type": "code",
   "execution_count": null,
   "metadata": {},
   "outputs": [],
   "source": [
    "!wget https://raw.githubusercontent.com/mrdbourke/tensorflow-deep-learning/main/extras/helper_functions.py"
   ]
  },
  {
   "cell_type": "code",
   "execution_count": null,
   "metadata": {},
   "outputs": [],
   "source": [
    "import tensorflow as tf\n",
    "IMG_SIZE = (224,224)\n",
    "train_data_10_percent = tf.keras.preprocessing.image_dataset_from_directory(train_dir_10_percent,\n",
    "                                                                            label_mode='categorical',\n",
    "                                                                            image_size = IMG_SIZE)\n",
    "test_data = tf.keras.preprocessing.image_dataset_from_directory(test_dir,\n",
    "                                                                label_mode='categorical',\n",
    "                                                                image_size=IMG_SIZE)"
   ]
  },
  {
   "cell_type": "code",
   "execution_count": null,
   "metadata": {},
   "outputs": [],
   "source": [
    "import tensorflow as tf\n",
    "from tensorflow.keras import layers\n",
    "from tensorflow.keras.layers.experimental import preprocessing\n",
    "from tensorflow.keras import Sequential\n",
    "\n",
    "data_augmentation = Sequential([\n",
    "    preprocessing.RandomFlip('horizontal'),\n",
    "    preprocessing.RandomHeight(0.2),\n",
    "    preprocessing.RandomWidth(0.2),\n",
    "    preprocessing.RandomZoom(0.2),\n",
    "    preprocessing.RandomRotation(0.2)\n",
    "],name='data_augmentation')\n",
    "\n",
    "input_shape = (224,224,3)\n",
    "\n",
    "base_model = tf.keras.applications.EfficientNetB0(include_top=False)\n",
    "base_model.trainable = False\n",
    "\n",
    "inputs = layers.Input(shape=input_shape, name='input_layer')\n",
    "x = data_augmentation(inputs)\n",
    "x = base_model(x,training=False)\n",
    "x = layers.GlobalAveragePooling2D(name='gloabl_average_pooling_layer')(x)\n",
    "outputs = layers.Dense(10,activation='softmax',name='output_layer')(x)\n",
    "\n",
    "model2 = tf.keras.Model(inputs, outputs)\n",
    "\n",
    "model2.compile(loss='categorical_crossentropy',\n",
    "               optimizer=tf.keras.optimizers.Adam(),\n",
    "               metrics=['accuracy'])"
   ]
  },
  {
   "cell_type": "code",
   "execution_count": null,
   "metadata": {},
   "outputs": [],
   "source": [
    "checkpoint_path = \"ten_percent_model_checkpoints_weights/checkpoint.ckpt\"\n",
    "checkpoint_callback = tf.keras.callbacks.ModelCheckpoint(filepath=checkpoint_path,\n",
    "                                               save_weights_only = True,\n",
    "                                               save_best_only = False,\n",
    "                                               save_freq='epoch',\n",
    "                                               verbose=1)"
   ]
  },
  {
   "cell_type": "code",
   "execution_count": null,
   "metadata": {},
   "outputs": [],
   "source": [
    "initial_epochs = 5\n",
    "history_10_percent_data_aug = model2.fit(train_data_10_percent,\n",
    "                                         epochs = initial_epochs,\n",
    "                                         validation_data = test_data,\n",
    "                                         validation_steps = int(0.25*len(test_data)),\n",
    "                                         callbacks = [create_tensorboard_callback(\"transfer_learning\",\"10_percent_data_aug\"),\n",
    "                                                      checkpoint_callback])"
   ]
  },
  {
   "cell_type": "code",
   "execution_count": null,
   "metadata": {},
   "outputs": [],
   "source": [
    "base_model.trainable = True\n",
    "for layer in base_model.layers[:-10]:\n",
    "  layer.trainable = False\n",
    "\n",
    "model2.compile(loss='categorical_crossentropy',\n",
    "               optimizer=tf.keras.optimizers.Adam(lr = 0.0001),\n",
    "               metrics=['accuracy'])"
   ]
  },
  {
   "cell_type": "code",
   "execution_count": null,
   "metadata": {},
   "outputs": [],
   "source": [
    "fine_tune_epochs = initial_epochs + 5\n",
    "\n",
    "history_fine_10_percent_data_aug = model2.fit(train_data_10_percent,\n",
    "                                              epochs=fine_tune_epochs,\n",
    "                                              validation_data=test_data,\n",
    "                                              initial_epoch=history_10_percent_data_aug.epoch[-1],\n",
    "                                              validation_steps=int(0.25*len(test_data)),\n",
    "                                              callbacks = [create_tensorboard_callback(\"transfer_learning\", \"10_percent_fne_tune_last_10\")])"
   ]
  },
  {
   "cell_type": "code",
   "execution_count": null,
   "metadata": {},
   "outputs": [],
   "source": []
  }
 ],
 "metadata": {
  "language_info": {
   "name": "python"
  }
 },
 "nbformat": 4,
 "nbformat_minor": 2
}
