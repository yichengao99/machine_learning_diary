{
 "cells": [
  {
   "cell_type": "code",
   "execution_count": 1,
   "metadata": {},
   "outputs": [
    {
     "name": "stderr",
     "output_type": "stream",
     "text": [
      "2024-03-27 12:36:01.899799: I tensorflow/core/platform/cpu_feature_guard.cc:193] This TensorFlow binary is optimized with oneAPI Deep Neural Network Library (oneDNN) to use the following CPU instructions in performance-critical operations:  AVX2 FMA\n",
      "To enable them in other operations, rebuild TensorFlow with the appropriate compiler flags.\n"
     ]
    }
   ],
   "source": [
    "import json\n",
    "import tensorflow as tf\n",
    "import numpy as np\n",
    "import urllib\n",
    "from tensorflow.keras.preprocessing.text import Tokenizer\n",
    "from tensorflow.keras.preprocessing.sequence import pad_sequences\n",
    "import tensorflow as tf\n",
    "import pandas as pd"
   ]
  },
  {
   "cell_type": "code",
   "execution_count": 2,
   "metadata": {},
   "outputs": [],
   "source": [
    "df = pd.read_json('./data/sarcasm.json')\n",
    "df.to_csv\n",
    "i = 20000\n",
    "train_df = df.iloc[:i,:]\n",
    "val_df = df.iloc[i:,:]\n",
    "train_sentences, train_labels = train_df['headline'].to_numpy(), train_df['is_sarcastic'].to_numpy()\n",
    "val_sentences, val_labels = val_df['headline'].to_numpy(), val_df['is_sarcastic'].to_numpy()"
   ]
  },
  {
   "cell_type": "code",
   "execution_count": 3,
   "metadata": {},
   "outputs": [],
   "source": [
    "from tensorflow.keras.preprocessing.text import Tokenizer\n",
    "from tensorflow.keras.preprocessing.sequence import pad_sequences\n",
    "\n",
    "vocab_size = 1000\n",
    "embedding_dim = 16\n",
    "max_length = 120\n",
    "trunc_type='post'\n",
    "padding_type='post'\n",
    "oov_tok = \"<OOV>\"\n",
    "training_size = 20000\n",
    "\n",
    "tokenizer = Tokenizer(num_words=vocab_size, oov_token=oov_tok)\n",
    "tokenizer.fit_on_texts(train_sentences)\n",
    "word_index = tokenizer.word_index\n",
    "\n",
    "sequences = tokenizer.texts_to_sequences(train_sentences)\n",
    "padded=pad_sequences(sequences, padding='post', maxlen=max_length)\n",
    "\n",
    "test_sequences = tokenizer.texts_to_sequences(val_sentences)\n",
    "test_padded=pad_sequences(test_sequences, padding='post', maxlen=max_length)\n"
   ]
  },
  {
   "cell_type": "code",
   "execution_count": 4,
   "metadata": {},
   "outputs": [
    {
     "name": "stdout",
     "output_type": "stream",
     "text": [
      "Epoch 1/15\n",
      "625/625 [==============================] - 2s 2ms/step - loss: 0.6784 - accuracy: 0.5635 - val_loss: 0.6429 - val_accuracy: 0.6681\n",
      "Epoch 2/15\n",
      "625/625 [==============================] - 1s 2ms/step - loss: 0.5259 - accuracy: 0.7531 - val_loss: 0.4526 - val_accuracy: 0.7925\n",
      "Epoch 3/15\n",
      "625/625 [==============================] - 1s 2ms/step - loss: 0.4191 - accuracy: 0.8081 - val_loss: 0.4171 - val_accuracy: 0.8070\n",
      "Epoch 4/15\n",
      "625/625 [==============================] - 1s 2ms/step - loss: 0.3937 - accuracy: 0.8202 - val_loss: 0.4102 - val_accuracy: 0.8073\n",
      "Epoch 5/15\n",
      "625/625 [==============================] - 1s 2ms/step - loss: 0.3818 - accuracy: 0.8273 - val_loss: 0.4014 - val_accuracy: 0.8153\n",
      "Epoch 6/15\n",
      "625/625 [==============================] - 1s 2ms/step - loss: 0.3733 - accuracy: 0.8301 - val_loss: 0.4012 - val_accuracy: 0.8162\n",
      "Epoch 7/15\n",
      "625/625 [==============================] - 1s 2ms/step - loss: 0.3673 - accuracy: 0.8332 - val_loss: 0.3994 - val_accuracy: 0.8156\n",
      "Epoch 8/15\n",
      "625/625 [==============================] - 1s 2ms/step - loss: 0.3648 - accuracy: 0.8345 - val_loss: 0.3987 - val_accuracy: 0.8153\n",
      "Epoch 9/15\n",
      "625/625 [==============================] - 2s 2ms/step - loss: 0.3604 - accuracy: 0.8355 - val_loss: 0.3986 - val_accuracy: 0.8098\n",
      "Epoch 10/15\n",
      "625/625 [==============================] - 1s 2ms/step - loss: 0.3581 - accuracy: 0.8368 - val_loss: 0.3995 - val_accuracy: 0.8110\n",
      "Epoch 11/15\n",
      "625/625 [==============================] - 1s 2ms/step - loss: 0.3580 - accuracy: 0.8359 - val_loss: 0.4004 - val_accuracy: 0.8109\n",
      "Epoch 12/15\n",
      "625/625 [==============================] - 1s 2ms/step - loss: 0.3540 - accuracy: 0.8388 - val_loss: 0.4004 - val_accuracy: 0.8125\n",
      "Epoch 13/15\n",
      "625/625 [==============================] - 1s 2ms/step - loss: 0.3564 - accuracy: 0.8379 - val_loss: 0.4008 - val_accuracy: 0.8125\n",
      "Epoch 14/15\n",
      "625/625 [==============================] - 1s 2ms/step - loss: 0.3549 - accuracy: 0.8393 - val_loss: 0.4017 - val_accuracy: 0.8097\n",
      "Epoch 15/15\n",
      "625/625 [==============================] - 1s 2ms/step - loss: 0.3535 - accuracy: 0.8401 - val_loss: 0.4054 - val_accuracy: 0.8103\n"
     ]
    },
    {
     "data": {
      "text/plain": [
       "<keras.callbacks.History at 0x7f7f0d893310>"
      ]
     },
     "execution_count": 4,
     "metadata": {},
     "output_type": "execute_result"
    }
   ],
   "source": [
    "import tensorflow as tf\n",
    "from tensorflow.keras.layers import Dense, Embedding, GlobalAveragePooling1D, Conv1D, MaxPool1D, Dropout\n",
    "model = tf.keras.Sequential([\n",
    "    Embedding(vocab_size, embedding_dim, input_length=max_length),\n",
    "    # Conv1D(8,3,activation='relu'),\n",
    "    # Conv1D(8,3,activation='relu'),\n",
    "    # MaxPool1D(),\n",
    "    # Conv1D(16,3,activation='relu'),\n",
    "    # Conv1D(16,3,activation='relu'),\n",
    "    # MaxPool1D(),\n",
    "    Dropout(0.2),\n",
    "    GlobalAveragePooling1D(),\n",
    "    Dense(24,activation='relu'),\n",
    "\n",
    "    tf.keras.layers.Dense(1, activation='sigmoid')\n",
    "])\n",
    "model.compile(optimizer='adam',\n",
    "        loss='BinaryCrossentropy',\n",
    "        metrics=['accuracy'])\n",
    "\n",
    "model.fit(padded,\n",
    "          train_labels,\n",
    "          epochs=15,\n",
    "          validation_data=(test_padded,val_labels))"
   ]
  }
 ],
 "metadata": {
  "kernelspec": {
   "display_name": "Python 3",
   "language": "python",
   "name": "python3"
  },
  "language_info": {
   "codemirror_mode": {
    "name": "ipython",
    "version": 3
   },
   "file_extension": ".py",
   "mimetype": "text/x-python",
   "name": "python",
   "nbconvert_exporter": "python",
   "pygments_lexer": "ipython3",
   "version": "3.8.10"
  }
 },
 "nbformat": 4,
 "nbformat_minor": 2
}
